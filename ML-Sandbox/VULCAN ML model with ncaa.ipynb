{
 "cells": [
  {
   "cell_type": "code",
   "execution_count": 1,
   "id": "e05e456a",
   "metadata": {},
   "outputs": [
    {
     "name": "stderr",
     "output_type": "stream",
     "text": [
      "C:\\Conda\\lib\\site-packages\\scipy\\__init__.py:146: UserWarning: A NumPy version >=1.16.5 and <1.23.0 is required for this version of SciPy (detected version 1.26.0\n",
      "  warnings.warn(f\"A NumPy version >={np_minversion} and <{np_maxversion}\"\n"
     ]
    }
   ],
   "source": [
    "import pandas as pd\n",
    "import numpy as np\n",
    "from sklearn import svm\n",
    "\n",
    "from sklearn.model_selection import train_test_split\n",
    "from sklearn.metrics import classification_report\n",
    "from sklearn.metrics import accuracy_score\n",
    "from sklearn.ensemble import AdaBoostClassifier\n",
    "from sklearn.tree import DecisionTreeClassifier"
   ]
  },
  {
   "cell_type": "code",
   "execution_count": 2,
   "id": "d076a3f3",
   "metadata": {},
   "outputs": [],
   "source": [
    "#Load data\n",
    "fire_df = pd.read_csv('Fire_data.csv')\n",
    "\n",
    "#######CLEAN DATA##########\n",
    "\n",
    "# only get rows in Butte, CA\n",
    "fire_df = fire_df[fire_df['state']=='CA']\n",
    "fire_df = fire_df[(fire_df['latitude']>=39.0) & (fire_df['latitude']<=41.0)]\n",
    "\n",
    "# Remove uneccesary rows\n",
    "fire_df = fire_df[['latitude', 'longitude', 'state', 'disc_clean_date', 'Temp_pre_15', 'Temp_pre_7', 'Wind_pre_15', 'Wind_pre_7','Hum_pre_15', 'Hum_pre_7','Prec_pre_15', 'Prec_pre_7']]\n",
    "fire_df = fire_df.drop(fire_df[fire_df['Prec_pre_15']==-1].index)\n",
    "fire_df = fire_df.drop(fire_df[fire_df['Prec_pre_7']==-1].index)\n",
    "\n",
    "# Target row (fire): 1=Fire, 0=no fire\n",
    "fire_df['fire']=1\n",
    "wf_df = fire_df[['latitude', 'longitude', 'disc_clean_date']]\n",
    "wf_df.to_csv('wildfire_data.csv')"
   ]
  },
  {
   "cell_type": "code",
   "execution_count": 3,
   "id": "887d5a54",
   "metadata": {},
   "outputs": [],
   "source": [
    "ncaa = weather_df = pd.read_csv('ncaa_data.csv')\n",
    "ncaa['fire']=0\n",
    "ncaa['temprature'] = ncaa['LST'] - 273.15"
   ]
  },
  {
   "cell_type": "code",
   "execution_count": 4,
   "id": "cf27487c",
   "metadata": {},
   "outputs": [],
   "source": [
    "weather_df = pd.read_csv('Weather.csv')\n",
    "weather_df['fire']=0\n",
    "weather_df['Temp_pre_7'] = ncaa['temprature']\n",
    "\n",
    "weather_df = weather_df.dropna()\n",
    "\n",
    "df = pd.concat([weather_df, fire_df], axis=0)\n",
    "df = df.sample(frac = 1)\n",
    "mat=df.corr()\n",
    "# print(mat['fire'])"
   ]
  },
  {
   "cell_type": "code",
   "execution_count": 5,
   "id": "cb3872ae",
   "metadata": {},
   "outputs": [],
   "source": [
    "X = df[['Temp_pre_7', 'Wind_pre_7', 'Hum_pre_7']]\n",
    "Y = df[['fire']]\n",
    "X_train, X_test, y_train, y_test = train_test_split(X, Y, test_size=0.2)"
   ]
  },
  {
   "cell_type": "code",
   "execution_count": 6,
   "id": "7fb78e43",
   "metadata": {},
   "outputs": [
    {
     "name": "stdout",
     "output_type": "stream",
     "text": [
      "              precision    recall  f1-score   support\n",
      "\n",
      "           0       1.00      0.95      0.97        75\n",
      "           1       0.97      1.00      0.98       129\n",
      "\n",
      "    accuracy                           0.98       204\n",
      "   macro avg       0.98      0.97      0.98       204\n",
      "weighted avg       0.98      0.98      0.98       204\n",
      "\n"
     ]
    },
    {
     "name": "stderr",
     "output_type": "stream",
     "text": [
      "C:\\Conda\\lib\\site-packages\\sklearn\\utils\\validation.py:993: DataConversionWarning: A column-vector y was passed when a 1d array was expected. Please change the shape of y to (n_samples, ), for example using ravel().\n",
      "  y = column_or_1d(y, warn=True)\n"
     ]
    }
   ],
   "source": [
    "base_classifier = DecisionTreeClassifier(max_depth=1)  # Weak learner for classification\n",
    "n_estimators = 50  # Number of estimators\n",
    "ada_classifier = AdaBoostClassifier(base_classifier, n_estimators=n_estimators)\n",
    "ada_classifier.fit(X_train, y_train)\n",
    "y_pred = ada_classifier.predict(X_test)\n",
    "accuracy = accuracy_score(y_test, y_pred)\n",
    "report = classification_report(y_test,y_pred)\n",
    "print(report)"
   ]
  }
 ],
 "metadata": {
  "kernelspec": {
   "display_name": "Python 3 (ipykernel)",
   "language": "python",
   "name": "python3"
  },
  "language_info": {
   "codemirror_mode": {
    "name": "ipython",
    "version": 3
   },
   "file_extension": ".py",
   "mimetype": "text/x-python",
   "name": "python",
   "nbconvert_exporter": "python",
   "pygments_lexer": "ipython3",
   "version": "3.9.12"
  }
 },
 "nbformat": 4,
 "nbformat_minor": 5
}
