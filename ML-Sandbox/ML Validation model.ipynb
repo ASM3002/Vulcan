{
 "cells": [
  {
   "cell_type": "code",
   "execution_count": 1,
   "id": "45af069b",
   "metadata": {},
   "outputs": [
    {
     "name": "stderr",
     "output_type": "stream",
     "text": [
      "C:\\Conda\\lib\\site-packages\\scipy\\__init__.py:146: UserWarning: A NumPy version >=1.16.5 and <1.23.0 is required for this version of SciPy (detected version 1.26.0\n",
      "  warnings.warn(f\"A NumPy version >={np_minversion} and <{np_maxversion}\"\n",
      "TensorFlow version 2.14.0 has not been tested with coremltools. You may run into unexpected errors. TensorFlow 2.12.0 is the most recent version that has been tested.\n",
      "Fail to import BlobReader from libmilstoragepython. No module named 'coremltools.libmilstoragepython'\n",
      "Fail to import BlobWriter from libmilstoragepython. No module named 'coremltools.libmilstoragepython'\n"
     ]
    }
   ],
   "source": [
    "import pandas as pd\n",
    "import numpy as np\n",
    "import coremltools\n",
    "\n",
    "from sklearn.model_selection import train_test_split\n",
    "from sklearn.metrics import classification_report\n",
    "from sklearn.metrics import accuracy_score\n",
    "from sklearn import svm"
   ]
  },
  {
   "cell_type": "code",
   "execution_count": 2,
   "id": "df4d4f1a",
   "metadata": {},
   "outputs": [],
   "source": [
    "#Load data\n",
    "fire_df = pd.read_csv('Fire_data.csv')\n",
    "\n",
    "#######CLEAN DATA##########\n",
    "\n",
    "# only get rows in Butte, CA\n",
    "fire_df = fire_df[fire_df['state']=='CA']\n",
    "fire_df = fire_df[(fire_df['latitude']>=39.0) & (fire_df['latitude']<=41.0)]\n",
    "\n",
    "# Remove uneccesary rows\n",
    "fire_df = fire_df[['latitude', 'longitude', 'state', 'disc_clean_date', 'Temp_pre_15', 'Temp_pre_7', 'Wind_pre_15', 'Wind_pre_7','Hum_pre_15', 'Hum_pre_7','Prec_pre_15', 'Prec_pre_7']]\n",
    "fire_df = fire_df.drop(fire_df[fire_df['Prec_pre_15']==-1].index)\n",
    "fire_df = fire_df.drop(fire_df[fire_df['Prec_pre_7']==-1].index)\n",
    "\n",
    "# Target row (fire): 1=Fire, 0=no fire\n",
    "fire_df['fire']=1\n",
    "wf_df = fire_df[['latitude', 'longitude', 'disc_clean_date']]\n",
    "wf_df.to_csv('wildfire_data.csv')"
   ]
  },
  {
   "cell_type": "code",
   "execution_count": 3,
   "id": "0bbc81c0",
   "metadata": {},
   "outputs": [],
   "source": [
    "weather_df = pd.read_csv('Weather.csv')\n",
    "weather_df['fire']=0\n",
    "df = pd.concat([weather_df, fire_df], axis=0)\n",
    "df = df.sample(frac = 1)\n",
    "mat=df.corr()\n",
    "# print(mat['fire'])"
   ]
  },
  {
   "cell_type": "code",
   "execution_count": 4,
   "id": "ea5097f5",
   "metadata": {},
   "outputs": [],
   "source": [
    "X = df[['Temp_pre_7', 'Wind_pre_7', 'Hum_pre_7']]\n",
    "Y = df[['fire']]\n",
    "X_train, X_test, y_train, y_test = train_test_split(X, Y, test_size=0.2)\n",
    "# print(X_test)"
   ]
  },
  {
   "cell_type": "code",
   "execution_count": 5,
   "id": "39fa866b",
   "metadata": {
    "scrolled": true
   },
   "outputs": [
    {
     "name": "stdout",
     "output_type": "stream",
     "text": [
      "No Kernnel\n",
      "              precision    recall  f1-score   support\n",
      "\n",
      "           0       0.90      0.88      0.89        60\n",
      "           1       0.95      0.96      0.96       145\n",
      "\n",
      "    accuracy                           0.94       205\n",
      "   macro avg       0.93      0.92      0.92       205\n",
      "weighted avg       0.94      0.94      0.94       205\n",
      "\n"
     ]
    },
    {
     "name": "stderr",
     "output_type": "stream",
     "text": [
      "C:\\Conda\\lib\\site-packages\\sklearn\\utils\\validation.py:993: DataConversionWarning: A column-vector y was passed when a 1d array was expected. Please change the shape of y to (n_samples, ), for example using ravel().\n",
      "  y = column_or_1d(y, warn=True)\n"
     ]
    }
   ],
   "source": [
    "svm_model = svm.SVC()\n",
    "svm_model.fit(X_train, y_train)\n",
    "y_pred = svm_model.predict(X_test)\n",
    "print('No Kernnel')\n",
    "report = classification_report(y_test,y_pred)\n",
    "# f1scores.append(accuracy_score(y_test,y_pred, average = 'weighted'))\n",
    "print(report)"
   ]
  },
  {
   "cell_type": "code",
   "execution_count": 6,
   "id": "7d24beea",
   "metadata": {},
   "outputs": [],
   "source": [
    "# Convert your scikit-learn model to Core ML format\n",
    "coreml_model = coremltools.converters.sklearn.convert(svm_model)\n",
    "\n",
    "# Provide metadata information (optional but recommended)\n",
    "coreml_model.author = 'Sathya'\n",
    "coreml_model.license = 'VULCAN'\n",
    "coreml_model.short_description = 'ML model'\n",
    "\n",
    "# Save the Core ML model to a file\n",
    "# coreml_model.save('svm_model.mlmodel')"
   ]
  }
 ],
 "metadata": {
  "kernelspec": {
   "display_name": "Python 3 (ipykernel)",
   "language": "python",
   "name": "python3"
  },
  "language_info": {
   "codemirror_mode": {
    "name": "ipython",
    "version": 3
   },
   "file_extension": ".py",
   "mimetype": "text/x-python",
   "name": "python",
   "nbconvert_exporter": "python",
   "pygments_lexer": "ipython3",
   "version": "3.9.12"
  }
 },
 "nbformat": 4,
 "nbformat_minor": 5
}
